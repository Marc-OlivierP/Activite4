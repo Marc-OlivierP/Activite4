{
 "cells": [
  {
   "cell_type": "markdown",
   "metadata": {},
   "source": [
    "<h1>Activité 7 - Condensateurs et filtres</h1>\n",
    "\n",
    "<h2 style=\"color:blue\">Section 1 - Introduction</h2>\n",
    "\n",
    "<p>Ceci est un \"jupyter notebook\", qui sert à exécuter un code écrit dans le langage de programmation \"python\", un langage très populaire dans le monde scientifique. Vous n'avez pas à comprendre ce code, il est déjà écrit pour vous. Vous aurez seulement à modifier certaines valeurs ou équations lorsque cela vous sera demandé. Pour exécuter une cellule, vous devez d'abord la sélectionner en cliquant dans celle-ci. Ensuite, vous appuyez sur SHIFT+ENTER pour en exécuter le contenu. Le résultat apparaît alors en dessous de la cellule.</p>\n",
    "\n",
    "<p>Pour vous pratiquer, exécutez la cellule ci-dessous. Vous verrez le résultat apparaître sous la cellule.</p>"
   ]
  },
  {
   "cell_type": "code",
   "execution_count": null,
   "metadata": {},
   "outputs": [],
   "source": [
    "# Les lignes qui commencent par un # sont des commentaires.\n",
    "# Les commentaires ne sont pas exécutés.\n",
    "print(\"Vous avez correctement exécuté cette cellule.\")"
   ]
  },
  {
   "cell_type": "markdown",
   "metadata": {},
   "source": [
    "<h2 style=\"color:blue\">Section 2 - Filtres RC</h2>\n",
    "\n",
    "<p></p>"
   ]
  },
  {
   "cell_type": "markdown",
   "metadata": {},
   "source": [
    "<p>Dans cette section, nous créons deux signaux sinusoïdaux de fréquences différentes. Lorsque ces signaux sont acheminés à un haut-parleur ou à des écouteurs, ces derniers émettent un son dont la fréquence correspond à la fréquence du signal. Plus la fréquence d'un son est élevée, plus le son est aigu. L'humain peut entendre les sons dont la fréquence se situe entre 20 Hz et 20 kHz environ (avec l'âge, cet intervalle rétrécit).</p>\n",
    "<p>Nous simulerons ensuite l'effet qu'aurait un filtre RC sur le signal comprenant les deux sons créés, afin d'observer et d'entendre le résultat.</p>"
   ]
  },
  {
   "cell_type": "markdown",
   "metadata": {},
   "source": [
    "<h3>Importation de modules</h3>\n",
    "<p>Afin d'employer certaines fonctions dans notre code, nous devons importer des modules. Vous n'avez pas besoin de comprendre tout le code qui suit. Vous n'aurez à modifier des éléments que lorsque ce sera indiqué dans les consignes. Exécutez la cellule suivante pour importer les modules requis.</p>"
   ]
  },
  {
   "cell_type": "code",
   "execution_count": null,
   "metadata": {},
   "outputs": [],
   "source": [
    "import IPython.display as ipd\n",
    "import numpy as np\n",
    "import matplotlib.pyplot as plt\n",
    "from scipy.io import wavfile"
   ]
  },
  {
   "cell_type": "markdown",
   "metadata": {},
   "source": [
    "<h3>Définition de quelques paramètres</h3>\n",
    "<p>Avant de créer nos deux signaux sonores, nous devons définir quelques paramètres. Exécutez la cellule suivante pour définir ces paramètres.</p>"
   ]
  },
  {
   "cell_type": "code",
   "execution_count": null,
   "metadata": {},
   "outputs": [],
   "source": [
    "sampleRate = 44100\n",
    "duration = 6.0\n",
    "\n",
    "# Création des valeurs de temps\n",
    "t = np.linspace(0, duration, int(duration*sampleRate), endpoint=False)"
   ]
  },
  {
   "cell_type": "markdown",
   "metadata": {},
   "source": [
    "<h3>Onde sonore 1</h3>\n",
    "<p>Nous sommes prêts à définir notre premier signal sonore, qui sera contenu dans la variable \"wave1\". Dans le code ci-dessous, fixez la fréquence à 100 Hz, ce qui nous donnera un son plutôt grave. Exécutez ensuite la cellule pour créer l'onde et afficher un graphique. Ce graphique présente les valeurs de potentiel qui sont appliquées sur le haut-parleur en fonction du temps.</p>\n",
    "\n",
    "<p>Vous pourrez ensuite écouter ce son en appuyant sur le bouton de lecture qui s'affichera sous le graphique. Si vous changez la fréquence, vous pourrez obtenir un son plus aigu ou plus grave (exécutez la cellule après avoir modifié la fréquence pour appliquer les changements). Assurez-vous de remettre la fréquence à 100 Hz et d'exécuter la cellule avant de passer à l'étape suivante.</p>"
   ]
  },
  {
   "cell_type": "code",
   "execution_count": null,
   "metadata": {},
   "outputs": [],
   "source": [
    "# Fréquence, en Hz\n",
    "frequency1 = 250\n",
    "\n",
    "#Amplitude de l'onde\n",
    "amplitude1 = 1\n",
    "\n",
    "# Création de l'onde 1\n",
    "wave1 = amplitude1*np.sin(2*np.pi*frequency1*t)\n",
    "\n",
    "# Graphique\n",
    "plt.plot(t,wave1)\n",
    "plt.title(\"Onde 1\")\n",
    "plt.axis([0,0.02,-1.1,1.1])\n",
    "plt.xlabel(\"Temps (s)\")\n",
    "plt.ylabel(\"$\\mathregular{V_{sortie}}$\")\n",
    "plt.show()\n",
    "\n",
    "# Lecture du son\n",
    "ipd.Audio(wave1, rate=sampleRate)"
   ]
  },
  {
   "cell_type": "markdown",
   "metadata": {},
   "source": [
    "<h3>Onde sonore 2</h3>\n",
    "<p>Créons maintenant notre deuxième signal sonore. Cette fois-ci, le signal sera contenu dans la variable \"wave2\". Dans le code ci-dessous, fixez la fréquence à 1600 Hz et exécutez la cellule pour afficher le graphique correspondant à ce signal et pour pouvoir écouter le son. Il s'agit d'un son plutôt aigu, qui n'est pas très agréable. Attention à vos oreilles!</p>"
   ]
  },
  {
   "cell_type": "code",
   "execution_count": null,
   "metadata": {},
   "outputs": [],
   "source": [
    "# Fréquence, en Hz\n",
    "frequency2 = 400\n",
    "\n",
    "# Amplitude de l'onde\n",
    "amplitude2 = 1\n",
    "\n",
    "# Création de l'onde 2\n",
    "wave2 = amplitude2*np.sin(2*np.pi*frequency2*t)\n",
    "\n",
    "# Graphique\n",
    "plt.plot(t,wave2)\n",
    "plt.title(\"Onde 2\")\n",
    "plt.axis([0,0.02,-1.1,1.1])\n",
    "plt.xlabel(\"Temps (s)\")\n",
    "plt.ylabel(\"$\\mathregular{V_{sortie}}$\")\n",
    "plt.show()\n",
    "\n",
    "# Lecture du son\n",
    "ipd.Audio(wave2, rate=sampleRate)"
   ]
  },
  {
   "cell_type": "markdown",
   "metadata": {},
   "source": [
    "<h3>Les deux ondes sonores superposés</h3>\n",
    "<p>Créons maintenant un signal qui contient les deux sons précédents. Rien de plus simple. Ce nouveau signal, qui sera contenu dans la variable \"sound\", est simplement la somme des deux autres signaux, \"wave1\" et \"wave2\". Exécutez la cellule suivante pour créer ce signal et pour l'écouter. Vous remarquerez alors dans le graphique que le signal obtenu est un sinus, par dessus un sinus. En écoutant le son (attention, son désagréable), vous remarquerez qu'on peut entendre les deux sons créés précédemment, simultanément.</p>"
   ]
  },
  {
   "cell_type": "code",
   "execution_count": null,
   "metadata": {
    "scrolled": true
   },
   "outputs": [],
   "source": [
    "# Création de l'onde superposée\n",
    "sound = wave1 + wave2\n",
    "\n",
    "# Graphique\n",
    "plt.plot(t,sound)\n",
    "plt.title(\"Superposition des ondes 1 et 2\")\n",
    "plt.axis([0,0.02,-2.1,2.1])\n",
    "plt.xlabel(\"Temps (s)\")\n",
    "plt.ylabel(\"$\\mathregular{V_{sortie}}$\")\n",
    "plt.show()\n",
    "\n",
    "# Lecture du son\n",
    "ipd.Audio(sound, rate=sampleRate)"
   ]
  },
  {
   "cell_type": "markdown",
   "metadata": {},
   "source": [
    "<h3>Simulation des filtres RC</h3>\n",
    "<p>Supposons maintenant qu'avant d'envoyer ce signal aux haut-parleurs, nous le faisons passer dans un filtre RC. Le son obtenu sera altéré différemment selon qu'il s'agit d'un filtre passe-haut ou d'un filtre passe-bas. La cellule qui suit permet de reproduire l'effet qu'aurait un filtre RC sur notre signal. Les fonctions employées dépassent largement le cadre de ce cours. Nous nous concentrerons donc seulement sur le calcul de la réponse en fréquence.</p>\n",
    "<h4>Filtre passe-bas</h4>\n",
    "<p>Dans la cellule ci-dessous, ajustez les valeurs de R et de C afin d'obtenir un filtre passe-bas, qui bloquera la haute fréquence le plus possible, tout en laissant passer au moins 80% de notre basse fréquence. En Python, les exposants se calculent avec le symbole **, et non avec le symbole ^. <i>Servez-vous des valeurs trouvées à l'aide d'Excel dans la partie précédente de l'activité</i>. Exécutez ensuite la cellule.</p>\n",
    "\n",
    "<p>Le premier graphique présente les fréquences contenues dans le signal original et dans le signal filtré. On remarque la présence de deux pics, correspondant aux deux signaux que nous avons additionnés. Le graphique contient aussi la réponse en fréquence de notre filtre. En écoutant le son obtenu, remarquez que le son aigu sonne maintenant moins fort qu'avant, alors que le son grave n'est pas très affecté par le filtre.</p>"
   ]
  },
  {
   "cell_type": "code",
   "execution_count": null,
   "metadata": {},
   "outputs": [],
   "source": [
    "# Transformée de Fourier (sert à calculer les fréquences contenues dans le signal)\n",
    "amplitudes = np.fft.rfft(sound)\n",
    "frequencies = np.fft.rfftfreq(sound.size, d=1/sampleRate)\n",
    "\n",
    "# Graphique des amplitudes originales (courbe bleue)\n",
    "plt.plot(frequencies,np.abs(amplitudes)*2/(sampleRate*duration), color=\"blue\", label=\"frequences contenues dans le signal original\")\n",
    "plt.axis([0,2000,-0.1,1.1])\n",
    "plt.xlabel(\"fréquence (Hz)\")\n",
    "plt.ylabel(\"Amplitude\")\n",
    "\n",
    "# Valeurs de résistance (en ohm) et de capacité (en farad) du circuit RC\n",
    "R=5000\n",
    "C=32*10**(-9)\n",
    "\n",
    "# Calcul de la réponse en fréquences\n",
    "frequencyResponse = (1+(2*np.pi*frequencies*R*C)**2)**(-1/2)\n",
    "\n",
    "# Calcul des nouvelles amplitudes\n",
    "filteredAmplitudes = amplitudes * frequencyResponse\n",
    "\n",
    "# Graphique des nouvelles amplitudes (courbe rouge)\n",
    "plt.plot(frequencies,np.abs(filteredAmplitudes)*2/(sampleRate*duration), color=\"red\", label=\"Fréquences contenues dans le signal filtré\")\n",
    "\n",
    "# Graphique de la réponse en fréquence du filtre (courbe verte)\n",
    "plt.plot(frequencies, frequencyResponse, \"green\", label=\"Réponse en fréquence du filtre\")\n",
    "plt.legend(loc=2,bbox_to_anchor=(1, 1))\n",
    "plt.title(\"Fréquences contenues dans les signaux\")\n",
    "plt.show()\n",
    "\n",
    "# Transformée de Fourier inverse\n",
    "filteredSound = np.fft.irfft(filteredAmplitudes)\n",
    "\n",
    "# Graphique de l'onde filtrée\n",
    "plt.plot(t,filteredSound)\n",
    "plt.axis([0,0.02,-2.1,2.1])\n",
    "plt.xlabel(\"Temps (s)\")\n",
    "plt.ylabel(\"$\\mathregular{V_{sortie}}$\")\n",
    "plt.title(\"Onde filtrée\")\n",
    "plt.show()\n",
    "\n",
    "# Lecture du son\n",
    "ipd.Audio(filteredSound, rate=sampleRate)"
   ]
  },
  {
   "cell_type": "markdown",
   "metadata": {},
   "source": [
    "<h4>Filtre passe-haut</h4>\n",
    "<p>Servez-vous de la cellule précédente pour simuler l'effet d'un filtre passe-haut. Pour y arriver, choisissez des valeurs de R et C qui permettent d'atténuer la basse fréquence le plus possible, tout en conservant 80% du signal de haute fréquence. Servez-vous des valeurs trouvées à l'aide d'Excel dans la partie précédente de l'activité. Ensuite, modifiez l'équation de réponse en fréquence afin qu'elle soit celle d'un filtre passe-haut. Exécutez la cellule pour observer et écouter l'effet de votre filtre passe-haut. </p>\n",
    "<p><i>Note: La valeur de pi s'obtient en écrivant np.pi. Les fréquences sont contenues dans une variable nommée \"frequencies\".</i></p>"
   ]
  },
  {
   "cell_type": "markdown",
   "metadata": {},
   "source": [
    "<h2 style=\"color:blue\">Section 3 - Effet \"vieille radio\"</h2>\n",
    "<p> Dans cette section, nous utiliserons un filtre passe-bas et un filtre passe-haut afin d'altérer une voix. Lorsque ces deux filtres sont utilisés simultanément, ils bloquent les basses fréquences et les hautes fréquences, ne laissant passer que les fréquences se trouvant ni trop basses, ni trop élevées. On appelle cela un filtre passe-bande, puisqu'il laisse passer les fréquences contenues dans une certaine bande.</p>\n",
    "<p>\n",
    "En atténuant les basses et les hautes fréquences, il est possible de recréer le son des walkie talkie ou des vielles radios, puisque ceux-ci étaient conçus pour ne transmettre que les fréquences d'une certaine bande.\n",
    "</p>\n",
    "<p>Votre but dans cette section sera d'appliquer un filtre sur un signal audio afin de reproduire l'effet suivant. Exécutez cette cellule pour écouter l'effet \"radio\" à reproduire.</p>"
   ]
  },
  {
   "cell_type": "code",
   "execution_count": null,
   "metadata": {},
   "outputs": [],
   "source": [
    "# Exemple de son à reproduire\n",
    "ipd.Audio(\"small_step.wav\")"
   ]
  },
  {
   "cell_type": "markdown",
   "metadata": {},
   "source": [
    "<h3>Fichier original</h3>\n",
    "<p>Nous utiliserons le son provenant d'un fichier externe, que je vous fournis avec le programme. Exécutez la cellule ci-dessous pour extraire les données du fichier audio. En observant le graphique obtenu, vous constaterez que le signal est beaucoup plus conplexe que le sinus créé précédemment. Ce signal peut être considéré comme une superposition d'un très grand nombre de signaux sinusoïdaux.</p>"
   ]
  },
  {
   "cell_type": "code",
   "execution_count": null,
   "metadata": {
    "scrolled": true
   },
   "outputs": [],
   "source": [
    "# Extraction des données du fichier audio\n",
    "rate, speech = wavfile.read(\"giant_leap.wav\")\n",
    "speech = speech.T[0]/np.max(np.abs(speech))\n",
    "duration = len(speech)/rate\n",
    "t = np.linspace(0, duration, int(duration*rate), endpoint=False)\n",
    "\n",
    "# Graphique\n",
    "plt.plot(t,speech)\n",
    "plt.title(\"Onde sonore\")\n",
    "plt.xlabel(\"Temps (s)\")\n",
    "plt.ylabel(\"$\\mathregular{V_{sortie}}$\")\n",
    "plt.show()\n",
    "\n",
    "# Lecture du fichier original\n",
    "ipd.Audio(speech, rate=rate)"
   ]
  },
  {
   "cell_type": "markdown",
   "metadata": {},
   "source": [
    "<h3>Filtre passe-bande</h3>\n",
    "<p>Puisque ce signal est composé d'un grand nombre de signaux sinusoïdaux superposés, il contient une grande variété de fréquences, contrairement à notre signal précédent (section 2), qui n'en contenait que deux. Modifiez les valeurs de R et C du filtre passe-haut (variables R1 et C1), et les valeurs de R et C du filtre passe-bas (variables R2 et C2) afin d'obtenir l'effet désiré (par essais et erreurs). Pour vous aider, regardez le graphique de réponse en fréquence obtenu. On souhaite éliminer le plus possible les fréquences qui ne se trouvent pas entre 1000 et 2500 Hz, mais garder autant que possible les fréquences dans cet intervalle.</p>\n",
    "<p><i>Note: Pour améliorer l'efficacité de notre filtre passe-bande, nous utiliserons 6 filtres passe-bas et 6 filtres passe-hauts placés les uns après les autres pour construire notre filtre passe-bande.</i></p>"
   ]
  },
  {
   "cell_type": "code",
   "execution_count": null,
   "metadata": {},
   "outputs": [],
   "source": [
    "# Transformée de Fourier (sert à calculer les fréquences contenues dans le signal)\n",
    "amplitudes = np.fft.rfft(speech)\n",
    "frequencies = np.fft.rfftfreq(speech.size, d=1/rate)\n",
    "scalingFactor = 100\n",
    "\n",
    "# Graphique des amplitudes originales (courbe bleue)\n",
    "plt.plot(frequencies,np.abs(amplitudes)*2/(rate*duration)*scalingFactor, color=\"blue\", label=\"frequences contenues dans le signal original\")\n",
    "plt.axis([0,4000,-0.1,1.1])\n",
    "plt.xlabel(\"fréquence (Hz)\")\n",
    "plt.ylabel(\"Amplitude\")\n",
    "\n",
    "# Valeurs de résistance (en ohm) et de capacité (en farad) du filtre passe-haut\n",
    "R1=100\n",
    "C1=60*10**(-7)\n",
    "\n",
    "# Valeurs de résistance (en ohm) et de capacité (en farad) du filtre passe-bas\n",
    "R2=100\n",
    "C2=60*10**(-9)\n",
    "\n",
    "# Calcul de la réponse en fréquence du filtre passe-haut\n",
    "highPassFrequencyResponse = (2*np.pi*frequencies*R1*C1)*(1+(2*np.pi*frequencies*R1*C1)**2)**(-1/2)\n",
    "\n",
    "# Calcul de la réponse en fréquence du filtre passe-bas\n",
    "lowPassFrequencyResponse = (1+(2*np.pi*frequencies*R2*C2)**2)**(-1/2)\n",
    "\n",
    "# Pour améliorer l'efficacité du filtre, nous utilisons plusieurs filtres passe-hauts et passe-bas\n",
    "# Calcul de la réponse en fréquence totale avec 6 filtres passe-bas et 6 filtres passe-hauts\n",
    "frequencyResponse = highPassFrequencyResponse**6 * lowPassFrequencyResponse**6\n",
    "\n",
    "# Calcul des nouvelles amplitudes\n",
    "filteredAmplitudes = amplitudes * frequencyResponse\n",
    "\n",
    "# Graphique des nouvelles amplitudes (courbe rouge)\n",
    "plt.plot(frequencies,np.abs(filteredAmplitudes)*2*scalingFactor/(rate*duration), color=\"red\", label=\"Fréquences contenues dans le signal filtré\")\n",
    "\n",
    "# Graphique de la réponse en fréquence du filtre (courbe verte)\n",
    "plt.plot(frequencies, frequencyResponse, \"green\", label=\"Réponse en fréquence du filtre\")\n",
    "plt.legend(loc=2,bbox_to_anchor=(1, 1))\n",
    "plt.title(\"Fréquences contenues dans les signaux\")\n",
    "plt.show()\n",
    "\n",
    "# Transformée de Fourier inverse\n",
    "filteredSound = np.fft.irfft(filteredAmplitudes)\n",
    "\n",
    "# Graphique de l'onde filtrée\n",
    "plt.plot(t,filteredSound)\n",
    "plt.axis([0,len(filteredSound)/rate,-1.1,1.1])\n",
    "plt.xlabel(\"Temps (s)\")\n",
    "plt.ylabel(\"$\\mathregular{V_{sortie}}$\")\n",
    "plt.title(\"Onde filtrée\")\n",
    "plt.show()\n",
    "\n",
    "# Lecture du son\n",
    "ipd.Audio(filteredSound, rate=rate)"
   ]
  },
  {
   "cell_type": "markdown",
   "metadata": {},
   "source": [
    "<p>Vous devez maintenant télécharger le travail que vous venez de faire sur ce \"workbook\". Votre filtre passe-haut sera évalué, ainsi que le filtre passe-bande que vous venez de réaliser (effet \"radio\"). En haut de l'écran, cliquez sur \"File\" (sous le mot jupyter), puis \"Download as\". Téléchargez le travail sous la forme d'un fichier HTML. Vous devrez remettre ce fichier avec le reste de votre travail. </p>\n",
    "<p>Vous avez terminé la partie 3 de l'activité 7.</p>"
   ]
  },
  {
   "cell_type": "code",
   "execution_count": null,
   "metadata": {},
   "outputs": [],
   "source": []
  }
 ],
 "metadata": {
  "kernelspec": {
   "display_name": "Python 3",
   "language": "python",
   "name": "python3"
  },
  "language_info": {
   "codemirror_mode": {
    "name": "ipython",
    "version": 3
   },
   "file_extension": ".py",
   "mimetype": "text/x-python",
   "name": "python",
   "nbconvert_exporter": "python",
   "pygments_lexer": "ipython3",
   "version": "3.8.3"
  }
 },
 "nbformat": 4,
 "nbformat_minor": 4
}
